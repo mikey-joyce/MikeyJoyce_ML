{
 "cells": [
  {
   "cell_type": "code",
   "execution_count": 6,
   "metadata": {
    "collapsed": true
   },
   "outputs": [
    {
     "name": "stdout",
     "output_type": "stream",
     "text": [
      "/Applications/PyCharm.app/Contents/plugins/python/helpers-pro/jupyter_debug/Algorithms/Algorithms\n"
     ]
    }
   ],
   "source": [
    "import sys\n",
    "sys.path.insert(0,'/Users/mikeyjoyce/Documents/Algorithms')"
   ]
  },
  {
   "cell_type": "code",
   "execution_count": 7,
   "outputs": [
    {
     "ename": "ModuleNotFoundError",
     "evalue": "No module named 'Unsupervised'",
     "output_type": "error",
     "traceback": [
      "\u001B[0;31m---------------------------------------------------------------------------\u001B[0m",
      "\u001B[0;31mModuleNotFoundError\u001B[0m                       Traceback (most recent call last)",
      "Cell \u001B[0;32mIn[7], line 5\u001B[0m\n\u001B[1;32m      3\u001B[0m \u001B[38;5;28;01mimport\u001B[39;00m \u001B[38;5;21;01mmatplotlib\u001B[39;00m\u001B[38;5;21;01m.\u001B[39;00m\u001B[38;5;21;01mpyplot\u001B[39;00m \u001B[38;5;28;01mas\u001B[39;00m \u001B[38;5;21;01mplt\u001B[39;00m\n\u001B[1;32m      4\u001B[0m \u001B[38;5;28;01mimport\u001B[39;00m \u001B[38;5;21;01mmath\u001B[39;00m\n\u001B[0;32m----> 5\u001B[0m \u001B[38;5;28;01mfrom\u001B[39;00m \u001B[38;5;21;01mUnsupervised\u001B[39;00m\u001B[38;5;21;01m.\u001B[39;00m\u001B[38;5;21;01mBSAS\u001B[39;00m \u001B[38;5;28;01mimport\u001B[39;00m BSAS\n",
      "\u001B[0;31mModuleNotFoundError\u001B[0m: No module named 'Unsupervised'"
     ]
    }
   ],
   "source": [
    "import numpy as np\n",
    "from sklearn import datasets\n",
    "import matplotlib.pyplot as plt\n",
    "import math\n",
    "from Unsupervised.BSAS import BSAS"
   ],
   "metadata": {
    "collapsed": false
   }
  },
  {
   "cell_type": "code",
   "execution_count": null,
   "outputs": [],
   "source": [
    "iris = datasets.load_iris()\n",
    "\n",
    "s = plt.scatter(iris.data[:, 0], iris.data[:, 1], c=iris.target, cmap='Set2')\n",
    "plt.xlabel(iris.feature_names[0])\n",
    "plt.ylabel(iris.feature_names[1])\n",
    "plt.legend(s.legend_elements()[0], iris.target_names)\n",
    "plt.title('Sepal Graph')\n",
    "plt.show()"
   ],
   "metadata": {
    "collapsed": false
   }
  },
  {
   "cell_type": "code",
   "execution_count": null,
   "outputs": [],
   "source": [
    "s = plt.scatter(iris.data[:, 2], iris.data[:, 3], c=iris.target, cmap='Set2')\n",
    "plt.xlabel(iris.feature_names[2])\n",
    "plt.ylabel(iris.feature_names[3])\n",
    "plt.legend(s.legend_elements()[0], iris.target_names)\n",
    "plt.title('Petal Graph')\n",
    "plt.show()"
   ],
   "metadata": {
    "collapsed": false
   }
  },
  {
   "cell_type": "code",
   "execution_count": null,
   "outputs": [],
   "source": [
    "data = iris.data[:140, 2:4]\n",
    "test = iris.data[140:151, 2:4]\n",
    "\n",
    "# hyper params\n",
    "theta = 2.5\n",
    "q = 2"
   ],
   "metadata": {
    "collapsed": false
   }
  },
  {
   "cell_type": "code",
   "execution_count": null,
   "outputs": [],
   "source": [
    "# Basic Sequential Algorithmic Scheme (BSAS) Implementation\n",
    "bsas = BSAS()\n",
    "thetas, ks = bsas.optimize(data)\n",
    "\n",
    "print(thetas[-1])\n",
    "print(ks[-1])\n",
    "\n",
    "plt.plot(thetas, ks)\n",
    "plt.xlabel('thetas')\n",
    "plt.ylabel('number of clusters')\n",
    "plt.show()"
   ],
   "metadata": {
    "collapsed": false
   }
  },
  {
   "cell_type": "code",
   "execution_count": null,
   "outputs": [],
   "source": [
    "c = bsas.fit(data, 3, ks[-1])\n",
    "s = plt.scatter(data[:, 0], data[:, 1], c=c, cmap='Set2')\n",
    "plt.xlabel(iris.feature_names[2])\n",
    "plt.ylabel(iris.feature_names[3])\n",
    "plt.legend(s.legend_elements()[0], iris.target_names)\n",
    "plt.title('Petal Graph')\n",
    "plt.show()"
   ],
   "metadata": {
    "collapsed": false
   }
  },
  {
   "cell_type": "code",
   "execution_count": null,
   "outputs": [],
   "source": [
    "c = bsas.predict(test)\n",
    "s = plt.scatter(test[:, 0], test[:, 1], c=c, cmap='Set2')\n",
    "plt.xlabel(iris.feature_names[2])\n",
    "plt.ylabel(iris.feature_names[3])\n",
    "plt.legend(s.legend_elements()[0], iris.target_names)\n",
    "plt.title('Petal Graph')\n",
    "plt.show()"
   ],
   "metadata": {
    "collapsed": false
   }
  },
  {
   "cell_type": "code",
   "execution_count": null,
   "outputs": [],
   "source": [],
   "metadata": {
    "collapsed": false
   }
  }
 ],
 "metadata": {
  "kernelspec": {
   "display_name": "Python 3",
   "language": "python",
   "name": "python3"
  },
  "language_info": {
   "codemirror_mode": {
    "name": "ipython",
    "version": 2
   },
   "file_extension": ".py",
   "mimetype": "text/x-python",
   "name": "python",
   "nbconvert_exporter": "python",
   "pygments_lexer": "ipython2",
   "version": "2.7.6"
  }
 },
 "nbformat": 4,
 "nbformat_minor": 0
}
